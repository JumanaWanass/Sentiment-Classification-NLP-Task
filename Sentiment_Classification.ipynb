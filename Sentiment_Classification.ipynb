{
  "nbformat": 4,
  "nbformat_minor": 0,
  "metadata": {
    "colab": {
      "provenance": [],
      "gpuType": "T4",
      "include_colab_link": true
    },
    "kernelspec": {
      "name": "python3",
      "display_name": "Python 3"
    },
    "language_info": {
      "name": "python"
    }
  },
  "cells": [
    {
      "cell_type": "markdown",
      "metadata": {
        "id": "view-in-github",
        "colab_type": "text"
      },
      "source": [
        "<a href=\"https://colab.research.google.com/github/JumanaWanass/Sentiment-Classification-NLP-Task/blob/main/Sentiment_Classification.ipynb\" target=\"_parent\"><img src=\"https://colab.research.google.com/assets/colab-badge.svg\" alt=\"Open In Colab\"/></a>"
      ]
    },
    {
      "cell_type": "markdown",
      "source": [
        "\n",
        "# Sentiment Classification using SST dataset"
      ],
      "metadata": {
        "id": "BXvv5GUGZ22e"
      }
    },
    {
      "cell_type": "markdown",
      "source": [
        "Our objective is to perform text classification into five distinct classes using the Stanford Sentiment Treebank (SST) dataset. The task involves employing two different classification approaches: Naive Bayes and Logistic Regression. Additionally, there is a third part dedicated to evaluation, where we will generate a confusion matrix and derive performance metrics from it."
      ],
      "metadata": {
        "id": "ybOq4XjDcYWW"
      }
    },
    {
      "cell_type": "markdown",
      "source": [
        "##1. Data Preprocessing"
      ],
      "metadata": {
        "id": "NoniUFYkZ24x"
      }
    },
    {
      "cell_type": "markdown",
      "source": [
        "The first step is to import all the necessary libraries, then study the dataset. Visualising the dataset will help us implement our custom algorithms and provide us with insights about its distribution"
      ],
      "metadata": {
        "id": "v35Ac5SvcXDu"
      }
    },
    {
      "cell_type": "code",
      "source": [
        "!pip install datasets\n",
        "\n",
        "from datasets import load_dataset\n",
        "import numpy as np\n",
        "import pandas as pd\n",
        "from matplotlib import pyplot as plt\n",
        "from collections import defaultdict\n",
        "from sklearn.pipeline import Pipeline\n",
        "from sklearn.feature_extraction.text import CountVectorizer\n",
        "from sklearn.naive_bayes import MultinomialNB\n",
        "from sklearn.feature_extraction.text import CountVectorizer\n",
        "from sklearn.linear_model import LogisticRegression\n",
        "from sklearn.pipeline import Pipeline\n",
        "from sklearn.metrics import accuracy_score, classification_report\n",
        "from sklearn.model_selection import train_test_split\n",
        "from sklearn.linear_model import SGDClassifier\n",
        "from sklearn.metrics import confusion_matrix, accuracy_score, precision_score, recall_score, f1_score\n"
      ],
      "metadata": {
        "id": "FU03f2jOKGh5"
      },
      "execution_count": null,
      "outputs": []
    },
    {
      "cell_type": "code",
      "source": [
        "# Load the SST dataset\n",
        "sst_dataset = load_dataset(\"sst\" , trust_remote_code=True)\n",
        "train_df = pd.DataFrame(sst_dataset[\"train\"])\n",
        "validation_df = pd.DataFrame(sst_dataset[\"validation\"])\n",
        "test_df = pd.DataFrame(sst_dataset[\"test\"])"
      ],
      "metadata": {
        "id": "W3rl2KzJH930"
      },
      "execution_count": null,
      "outputs": []
    },
    {
      "cell_type": "code",
      "source": [
        "train_df.head()"
      ],
      "metadata": {
        "colab": {
          "base_uri": "https://localhost:8080/",
          "height": 206
        },
        "id": "X8vrx7WgZrxf",
        "outputId": "a9de757b-6c67-4a9e-fb71-477ab5666cbe"
      },
      "execution_count": null,
      "outputs": [
        {
          "output_type": "execute_result",
          "data": {
            "text/plain": [
              "                                            sentence    label  \\\n",
              "0  The Rock is destined to be the 21st Century 's...  0.69444   \n",
              "1  The gorgeously elaborate continuation of `` Th...  0.83333   \n",
              "2  Singer\\/composer Bryan Adams contributes a sle...  0.62500   \n",
              "3  You 'd think by now America would have had eno...  0.50000   \n",
              "4               Yet the act is still charming here .  0.72222   \n",
              "\n",
              "                                              tokens  \\\n",
              "0  The|Rock|is|destined|to|be|the|21st|Century|'s...   \n",
              "1  The|gorgeously|elaborate|continuation|of|``|Th...   \n",
              "2  Singer\\/composer|Bryan|Adams|contributes|a|sle...   \n",
              "3  You|'d|think|by|now|America|would|have|had|eno...   \n",
              "4               Yet|the|act|is|still|charming|here|.   \n",
              "\n",
              "                                                tree  \n",
              "0  70|70|68|67|63|62|61|60|58|58|57|56|56|64|65|5...  \n",
              "1  71|70|69|69|67|67|66|64|63|62|62|61|61|58|57|5...  \n",
              "2  72|71|71|70|68|68|67|67|66|63|62|62|60|60|58|5...  \n",
              "3  36|35|34|33|33|32|30|29|27|26|25|24|23|23|22|2...  \n",
              "4          15|13|13|10|9|9|11|12|10|11|12|14|14|15|0  "
            ],
            "text/html": [
              "\n",
              "  <div id=\"df-d44a715e-5695-423d-aeb2-4c3d1e7db6f5\" class=\"colab-df-container\">\n",
              "    <div>\n",
              "<style scoped>\n",
              "    .dataframe tbody tr th:only-of-type {\n",
              "        vertical-align: middle;\n",
              "    }\n",
              "\n",
              "    .dataframe tbody tr th {\n",
              "        vertical-align: top;\n",
              "    }\n",
              "\n",
              "    .dataframe thead th {\n",
              "        text-align: right;\n",
              "    }\n",
              "</style>\n",
              "<table border=\"1\" class=\"dataframe\">\n",
              "  <thead>\n",
              "    <tr style=\"text-align: right;\">\n",
              "      <th></th>\n",
              "      <th>sentence</th>\n",
              "      <th>label</th>\n",
              "      <th>tokens</th>\n",
              "      <th>tree</th>\n",
              "    </tr>\n",
              "  </thead>\n",
              "  <tbody>\n",
              "    <tr>\n",
              "      <th>0</th>\n",
              "      <td>The Rock is destined to be the 21st Century 's...</td>\n",
              "      <td>0.69444</td>\n",
              "      <td>The|Rock|is|destined|to|be|the|21st|Century|'s...</td>\n",
              "      <td>70|70|68|67|63|62|61|60|58|58|57|56|56|64|65|5...</td>\n",
              "    </tr>\n",
              "    <tr>\n",
              "      <th>1</th>\n",
              "      <td>The gorgeously elaborate continuation of `` Th...</td>\n",
              "      <td>0.83333</td>\n",
              "      <td>The|gorgeously|elaborate|continuation|of|``|Th...</td>\n",
              "      <td>71|70|69|69|67|67|66|64|63|62|62|61|61|58|57|5...</td>\n",
              "    </tr>\n",
              "    <tr>\n",
              "      <th>2</th>\n",
              "      <td>Singer\\/composer Bryan Adams contributes a sle...</td>\n",
              "      <td>0.62500</td>\n",
              "      <td>Singer\\/composer|Bryan|Adams|contributes|a|sle...</td>\n",
              "      <td>72|71|71|70|68|68|67|67|66|63|62|62|60|60|58|5...</td>\n",
              "    </tr>\n",
              "    <tr>\n",
              "      <th>3</th>\n",
              "      <td>You 'd think by now America would have had eno...</td>\n",
              "      <td>0.50000</td>\n",
              "      <td>You|'d|think|by|now|America|would|have|had|eno...</td>\n",
              "      <td>36|35|34|33|33|32|30|29|27|26|25|24|23|23|22|2...</td>\n",
              "    </tr>\n",
              "    <tr>\n",
              "      <th>4</th>\n",
              "      <td>Yet the act is still charming here .</td>\n",
              "      <td>0.72222</td>\n",
              "      <td>Yet|the|act|is|still|charming|here|.</td>\n",
              "      <td>15|13|13|10|9|9|11|12|10|11|12|14|14|15|0</td>\n",
              "    </tr>\n",
              "  </tbody>\n",
              "</table>\n",
              "</div>\n",
              "    <div class=\"colab-df-buttons\">\n",
              "\n",
              "  <div class=\"colab-df-container\">\n",
              "    <button class=\"colab-df-convert\" onclick=\"convertToInteractive('df-d44a715e-5695-423d-aeb2-4c3d1e7db6f5')\"\n",
              "            title=\"Convert this dataframe to an interactive table.\"\n",
              "            style=\"display:none;\">\n",
              "\n",
              "  <svg xmlns=\"http://www.w3.org/2000/svg\" height=\"24px\" viewBox=\"0 -960 960 960\">\n",
              "    <path d=\"M120-120v-720h720v720H120Zm60-500h600v-160H180v160Zm220 220h160v-160H400v160Zm0 220h160v-160H400v160ZM180-400h160v-160H180v160Zm440 0h160v-160H620v160ZM180-180h160v-160H180v160Zm440 0h160v-160H620v160Z\"/>\n",
              "  </svg>\n",
              "    </button>\n",
              "\n",
              "  <style>\n",
              "    .colab-df-container {\n",
              "      display:flex;\n",
              "      gap: 12px;\n",
              "    }\n",
              "\n",
              "    .colab-df-convert {\n",
              "      background-color: #E8F0FE;\n",
              "      border: none;\n",
              "      border-radius: 50%;\n",
              "      cursor: pointer;\n",
              "      display: none;\n",
              "      fill: #1967D2;\n",
              "      height: 32px;\n",
              "      padding: 0 0 0 0;\n",
              "      width: 32px;\n",
              "    }\n",
              "\n",
              "    .colab-df-convert:hover {\n",
              "      background-color: #E2EBFA;\n",
              "      box-shadow: 0px 1px 2px rgba(60, 64, 67, 0.3), 0px 1px 3px 1px rgba(60, 64, 67, 0.15);\n",
              "      fill: #174EA6;\n",
              "    }\n",
              "\n",
              "    .colab-df-buttons div {\n",
              "      margin-bottom: 4px;\n",
              "    }\n",
              "\n",
              "    [theme=dark] .colab-df-convert {\n",
              "      background-color: #3B4455;\n",
              "      fill: #D2E3FC;\n",
              "    }\n",
              "\n",
              "    [theme=dark] .colab-df-convert:hover {\n",
              "      background-color: #434B5C;\n",
              "      box-shadow: 0px 1px 3px 1px rgba(0, 0, 0, 0.15);\n",
              "      filter: drop-shadow(0px 1px 2px rgba(0, 0, 0, 0.3));\n",
              "      fill: #FFFFFF;\n",
              "    }\n",
              "  </style>\n",
              "\n",
              "    <script>\n",
              "      const buttonEl =\n",
              "        document.querySelector('#df-d44a715e-5695-423d-aeb2-4c3d1e7db6f5 button.colab-df-convert');\n",
              "      buttonEl.style.display =\n",
              "        google.colab.kernel.accessAllowed ? 'block' : 'none';\n",
              "\n",
              "      async function convertToInteractive(key) {\n",
              "        const element = document.querySelector('#df-d44a715e-5695-423d-aeb2-4c3d1e7db6f5');\n",
              "        const dataTable =\n",
              "          await google.colab.kernel.invokeFunction('convertToInteractive',\n",
              "                                                    [key], {});\n",
              "        if (!dataTable) return;\n",
              "\n",
              "        const docLinkHtml = 'Like what you see? Visit the ' +\n",
              "          '<a target=\"_blank\" href=https://colab.research.google.com/notebooks/data_table.ipynb>data table notebook</a>'\n",
              "          + ' to learn more about interactive tables.';\n",
              "        element.innerHTML = '';\n",
              "        dataTable['output_type'] = 'display_data';\n",
              "        await google.colab.output.renderOutput(dataTable, element);\n",
              "        const docLink = document.createElement('div');\n",
              "        docLink.innerHTML = docLinkHtml;\n",
              "        element.appendChild(docLink);\n",
              "      }\n",
              "    </script>\n",
              "  </div>\n",
              "\n",
              "\n",
              "<div id=\"df-145ec450-60ac-4020-89d5-f6f91b2e5ce3\">\n",
              "  <button class=\"colab-df-quickchart\" onclick=\"quickchart('df-145ec450-60ac-4020-89d5-f6f91b2e5ce3')\"\n",
              "            title=\"Suggest charts\"\n",
              "            style=\"display:none;\">\n",
              "\n",
              "<svg xmlns=\"http://www.w3.org/2000/svg\" height=\"24px\"viewBox=\"0 0 24 24\"\n",
              "     width=\"24px\">\n",
              "    <g>\n",
              "        <path d=\"M19 3H5c-1.1 0-2 .9-2 2v14c0 1.1.9 2 2 2h14c1.1 0 2-.9 2-2V5c0-1.1-.9-2-2-2zM9 17H7v-7h2v7zm4 0h-2V7h2v10zm4 0h-2v-4h2v4z\"/>\n",
              "    </g>\n",
              "</svg>\n",
              "  </button>\n",
              "\n",
              "<style>\n",
              "  .colab-df-quickchart {\n",
              "      --bg-color: #E8F0FE;\n",
              "      --fill-color: #1967D2;\n",
              "      --hover-bg-color: #E2EBFA;\n",
              "      --hover-fill-color: #174EA6;\n",
              "      --disabled-fill-color: #AAA;\n",
              "      --disabled-bg-color: #DDD;\n",
              "  }\n",
              "\n",
              "  [theme=dark] .colab-df-quickchart {\n",
              "      --bg-color: #3B4455;\n",
              "      --fill-color: #D2E3FC;\n",
              "      --hover-bg-color: #434B5C;\n",
              "      --hover-fill-color: #FFFFFF;\n",
              "      --disabled-bg-color: #3B4455;\n",
              "      --disabled-fill-color: #666;\n",
              "  }\n",
              "\n",
              "  .colab-df-quickchart {\n",
              "    background-color: var(--bg-color);\n",
              "    border: none;\n",
              "    border-radius: 50%;\n",
              "    cursor: pointer;\n",
              "    display: none;\n",
              "    fill: var(--fill-color);\n",
              "    height: 32px;\n",
              "    padding: 0;\n",
              "    width: 32px;\n",
              "  }\n",
              "\n",
              "  .colab-df-quickchart:hover {\n",
              "    background-color: var(--hover-bg-color);\n",
              "    box-shadow: 0 1px 2px rgba(60, 64, 67, 0.3), 0 1px 3px 1px rgba(60, 64, 67, 0.15);\n",
              "    fill: var(--button-hover-fill-color);\n",
              "  }\n",
              "\n",
              "  .colab-df-quickchart-complete:disabled,\n",
              "  .colab-df-quickchart-complete:disabled:hover {\n",
              "    background-color: var(--disabled-bg-color);\n",
              "    fill: var(--disabled-fill-color);\n",
              "    box-shadow: none;\n",
              "  }\n",
              "\n",
              "  .colab-df-spinner {\n",
              "    border: 2px solid var(--fill-color);\n",
              "    border-color: transparent;\n",
              "    border-bottom-color: var(--fill-color);\n",
              "    animation:\n",
              "      spin 1s steps(1) infinite;\n",
              "  }\n",
              "\n",
              "  @keyframes spin {\n",
              "    0% {\n",
              "      border-color: transparent;\n",
              "      border-bottom-color: var(--fill-color);\n",
              "      border-left-color: var(--fill-color);\n",
              "    }\n",
              "    20% {\n",
              "      border-color: transparent;\n",
              "      border-left-color: var(--fill-color);\n",
              "      border-top-color: var(--fill-color);\n",
              "    }\n",
              "    30% {\n",
              "      border-color: transparent;\n",
              "      border-left-color: var(--fill-color);\n",
              "      border-top-color: var(--fill-color);\n",
              "      border-right-color: var(--fill-color);\n",
              "    }\n",
              "    40% {\n",
              "      border-color: transparent;\n",
              "      border-right-color: var(--fill-color);\n",
              "      border-top-color: var(--fill-color);\n",
              "    }\n",
              "    60% {\n",
              "      border-color: transparent;\n",
              "      border-right-color: var(--fill-color);\n",
              "    }\n",
              "    80% {\n",
              "      border-color: transparent;\n",
              "      border-right-color: var(--fill-color);\n",
              "      border-bottom-color: var(--fill-color);\n",
              "    }\n",
              "    90% {\n",
              "      border-color: transparent;\n",
              "      border-bottom-color: var(--fill-color);\n",
              "    }\n",
              "  }\n",
              "</style>\n",
              "\n",
              "  <script>\n",
              "    async function quickchart(key) {\n",
              "      const quickchartButtonEl =\n",
              "        document.querySelector('#' + key + ' button');\n",
              "      quickchartButtonEl.disabled = true;  // To prevent multiple clicks.\n",
              "      quickchartButtonEl.classList.add('colab-df-spinner');\n",
              "      try {\n",
              "        const charts = await google.colab.kernel.invokeFunction(\n",
              "            'suggestCharts', [key], {});\n",
              "      } catch (error) {\n",
              "        console.error('Error during call to suggestCharts:', error);\n",
              "      }\n",
              "      quickchartButtonEl.classList.remove('colab-df-spinner');\n",
              "      quickchartButtonEl.classList.add('colab-df-quickchart-complete');\n",
              "    }\n",
              "    (() => {\n",
              "      let quickchartButtonEl =\n",
              "        document.querySelector('#df-145ec450-60ac-4020-89d5-f6f91b2e5ce3 button');\n",
              "      quickchartButtonEl.style.display =\n",
              "        google.colab.kernel.accessAllowed ? 'block' : 'none';\n",
              "    })();\n",
              "  </script>\n",
              "</div>\n",
              "\n",
              "    </div>\n",
              "  </div>\n"
            ],
            "application/vnd.google.colaboratory.intrinsic+json": {
              "type": "dataframe",
              "variable_name": "train_df",
              "summary": "{\n  \"name\": \"train_df\",\n  \"rows\": 8544,\n  \"fields\": [\n    {\n      \"column\": \"sentence\",\n      \"properties\": {\n        \"dtype\": \"string\",\n        \"num_unique_values\": 8534,\n        \"samples\": [\n          \"... the story simply putters along looking for astute observations and coming up blank .\",\n          \"If you answered yes , by all means enjoy The New Guy .\",\n          \"You will likely prefer to keep on watching .\"\n        ],\n        \"semantic_type\": \"\",\n        \"description\": \"\"\n      }\n    },\n    {\n      \"column\": \"label\",\n      \"properties\": {\n        \"dtype\": \"number\",\n        \"std\": 0.25143308142306486,\n        \"min\": 0.0,\n        \"max\": 1.0,\n        \"num_unique_values\": 74,\n        \"samples\": [\n          0.7222200036048889,\n          0.26388999819755554,\n          0.9305599927902222\n        ],\n        \"semantic_type\": \"\",\n        \"description\": \"\"\n      }\n    },\n    {\n      \"column\": \"tokens\",\n      \"properties\": {\n        \"dtype\": \"string\",\n        \"num_unique_values\": 8534,\n        \"samples\": [\n          \"...|the|story|simply|putters|along|looking|for|astute|observations|and|coming|up|blank|.\",\n          \"If|you|answered|yes|,|by|all|means|enjoy|The|New|Guy|.\",\n          \"You|will|likely|prefer|to|keep|on|watching|.\"\n        ],\n        \"semantic_type\": \"\",\n        \"description\": \"\"\n      }\n    },\n    {\n      \"column\": \"tree\",\n      \"properties\": {\n        \"dtype\": \"string\",\n        \"num_unique_values\": 7400,\n        \"samples\": [\n          \"11|10|8|8|7|7|9|9|10|11|0\",\n          \"40|40|38|37|34|33|32|31|30|29|29|28|27|26|26|25|24|23|22|22|39|23|24|25|36|27|28|35|30|31|32|33|34|35|36|37|38|39|41|41|0\",\n          \"46|46|45|44|42|40|40|41|39|37|36|36|35|35|34|32|32|31|28|27|27|29|26|26|49|30|28|29|30|31|33|33|34|48|38|37|38|39|43|41|42|43|44|45|47|47|48|49|0\"\n        ],\n        \"semantic_type\": \"\",\n        \"description\": \"\"\n      }\n    }\n  ]\n}"
            }
          },
          "metadata": {},
          "execution_count": 3
        }
      ]
    },
    {
      "cell_type": "markdown",
      "source": [
        "Then we remove the columns we don't need: Tree and tokens"
      ],
      "metadata": {
        "id": "8GWa_1B1Nfw_"
      }
    },
    {
      "cell_type": "code",
      "source": [
        "train_df.drop(['tree', 'tokens'], axis = 1 ,inplace=True)\n",
        "validation_df.drop(['tree', 'tokens'], axis = 1, inplace=True)\n",
        "test_df.drop(['tree', 'tokens'], axis = 1, inplace=True)"
      ],
      "metadata": {
        "id": "71Xe3SilK0po"
      },
      "execution_count": null,
      "outputs": []
    },
    {
      "cell_type": "code",
      "source": [
        "train_df.head()"
      ],
      "metadata": {
        "id": "HFhRHthebhz1",
        "colab": {
          "base_uri": "https://localhost:8080/",
          "height": 206
        },
        "outputId": "eeacfaa9-3729-46b4-b80d-ebd4b35416b2"
      },
      "execution_count": null,
      "outputs": [
        {
          "output_type": "execute_result",
          "data": {
            "text/plain": [
              "                                            sentence    label\n",
              "0  The Rock is destined to be the 21st Century 's...  0.69444\n",
              "1  The gorgeously elaborate continuation of `` Th...  0.83333\n",
              "2  Singer\\/composer Bryan Adams contributes a sle...  0.62500\n",
              "3  You 'd think by now America would have had eno...  0.50000\n",
              "4               Yet the act is still charming here .  0.72222"
            ],
            "text/html": [
              "\n",
              "  <div id=\"df-860565cc-cece-4387-aa23-5f344d7ec4b2\" class=\"colab-df-container\">\n",
              "    <div>\n",
              "<style scoped>\n",
              "    .dataframe tbody tr th:only-of-type {\n",
              "        vertical-align: middle;\n",
              "    }\n",
              "\n",
              "    .dataframe tbody tr th {\n",
              "        vertical-align: top;\n",
              "    }\n",
              "\n",
              "    .dataframe thead th {\n",
              "        text-align: right;\n",
              "    }\n",
              "</style>\n",
              "<table border=\"1\" class=\"dataframe\">\n",
              "  <thead>\n",
              "    <tr style=\"text-align: right;\">\n",
              "      <th></th>\n",
              "      <th>sentence</th>\n",
              "      <th>label</th>\n",
              "    </tr>\n",
              "  </thead>\n",
              "  <tbody>\n",
              "    <tr>\n",
              "      <th>0</th>\n",
              "      <td>The Rock is destined to be the 21st Century 's...</td>\n",
              "      <td>0.69444</td>\n",
              "    </tr>\n",
              "    <tr>\n",
              "      <th>1</th>\n",
              "      <td>The gorgeously elaborate continuation of `` Th...</td>\n",
              "      <td>0.83333</td>\n",
              "    </tr>\n",
              "    <tr>\n",
              "      <th>2</th>\n",
              "      <td>Singer\\/composer Bryan Adams contributes a sle...</td>\n",
              "      <td>0.62500</td>\n",
              "    </tr>\n",
              "    <tr>\n",
              "      <th>3</th>\n",
              "      <td>You 'd think by now America would have had eno...</td>\n",
              "      <td>0.50000</td>\n",
              "    </tr>\n",
              "    <tr>\n",
              "      <th>4</th>\n",
              "      <td>Yet the act is still charming here .</td>\n",
              "      <td>0.72222</td>\n",
              "    </tr>\n",
              "  </tbody>\n",
              "</table>\n",
              "</div>\n",
              "    <div class=\"colab-df-buttons\">\n",
              "\n",
              "  <div class=\"colab-df-container\">\n",
              "    <button class=\"colab-df-convert\" onclick=\"convertToInteractive('df-860565cc-cece-4387-aa23-5f344d7ec4b2')\"\n",
              "            title=\"Convert this dataframe to an interactive table.\"\n",
              "            style=\"display:none;\">\n",
              "\n",
              "  <svg xmlns=\"http://www.w3.org/2000/svg\" height=\"24px\" viewBox=\"0 -960 960 960\">\n",
              "    <path d=\"M120-120v-720h720v720H120Zm60-500h600v-160H180v160Zm220 220h160v-160H400v160Zm0 220h160v-160H400v160ZM180-400h160v-160H180v160Zm440 0h160v-160H620v160ZM180-180h160v-160H180v160Zm440 0h160v-160H620v160Z\"/>\n",
              "  </svg>\n",
              "    </button>\n",
              "\n",
              "  <style>\n",
              "    .colab-df-container {\n",
              "      display:flex;\n",
              "      gap: 12px;\n",
              "    }\n",
              "\n",
              "    .colab-df-convert {\n",
              "      background-color: #E8F0FE;\n",
              "      border: none;\n",
              "      border-radius: 50%;\n",
              "      cursor: pointer;\n",
              "      display: none;\n",
              "      fill: #1967D2;\n",
              "      height: 32px;\n",
              "      padding: 0 0 0 0;\n",
              "      width: 32px;\n",
              "    }\n",
              "\n",
              "    .colab-df-convert:hover {\n",
              "      background-color: #E2EBFA;\n",
              "      box-shadow: 0px 1px 2px rgba(60, 64, 67, 0.3), 0px 1px 3px 1px rgba(60, 64, 67, 0.15);\n",
              "      fill: #174EA6;\n",
              "    }\n",
              "\n",
              "    .colab-df-buttons div {\n",
              "      margin-bottom: 4px;\n",
              "    }\n",
              "\n",
              "    [theme=dark] .colab-df-convert {\n",
              "      background-color: #3B4455;\n",
              "      fill: #D2E3FC;\n",
              "    }\n",
              "\n",
              "    [theme=dark] .colab-df-convert:hover {\n",
              "      background-color: #434B5C;\n",
              "      box-shadow: 0px 1px 3px 1px rgba(0, 0, 0, 0.15);\n",
              "      filter: drop-shadow(0px 1px 2px rgba(0, 0, 0, 0.3));\n",
              "      fill: #FFFFFF;\n",
              "    }\n",
              "  </style>\n",
              "\n",
              "    <script>\n",
              "      const buttonEl =\n",
              "        document.querySelector('#df-860565cc-cece-4387-aa23-5f344d7ec4b2 button.colab-df-convert');\n",
              "      buttonEl.style.display =\n",
              "        google.colab.kernel.accessAllowed ? 'block' : 'none';\n",
              "\n",
              "      async function convertToInteractive(key) {\n",
              "        const element = document.querySelector('#df-860565cc-cece-4387-aa23-5f344d7ec4b2');\n",
              "        const dataTable =\n",
              "          await google.colab.kernel.invokeFunction('convertToInteractive',\n",
              "                                                    [key], {});\n",
              "        if (!dataTable) return;\n",
              "\n",
              "        const docLinkHtml = 'Like what you see? Visit the ' +\n",
              "          '<a target=\"_blank\" href=https://colab.research.google.com/notebooks/data_table.ipynb>data table notebook</a>'\n",
              "          + ' to learn more about interactive tables.';\n",
              "        element.innerHTML = '';\n",
              "        dataTable['output_type'] = 'display_data';\n",
              "        await google.colab.output.renderOutput(dataTable, element);\n",
              "        const docLink = document.createElement('div');\n",
              "        docLink.innerHTML = docLinkHtml;\n",
              "        element.appendChild(docLink);\n",
              "      }\n",
              "    </script>\n",
              "  </div>\n",
              "\n",
              "\n",
              "<div id=\"df-3c85f76f-45c2-4335-bf20-dec77f4ab551\">\n",
              "  <button class=\"colab-df-quickchart\" onclick=\"quickchart('df-3c85f76f-45c2-4335-bf20-dec77f4ab551')\"\n",
              "            title=\"Suggest charts\"\n",
              "            style=\"display:none;\">\n",
              "\n",
              "<svg xmlns=\"http://www.w3.org/2000/svg\" height=\"24px\"viewBox=\"0 0 24 24\"\n",
              "     width=\"24px\">\n",
              "    <g>\n",
              "        <path d=\"M19 3H5c-1.1 0-2 .9-2 2v14c0 1.1.9 2 2 2h14c1.1 0 2-.9 2-2V5c0-1.1-.9-2-2-2zM9 17H7v-7h2v7zm4 0h-2V7h2v10zm4 0h-2v-4h2v4z\"/>\n",
              "    </g>\n",
              "</svg>\n",
              "  </button>\n",
              "\n",
              "<style>\n",
              "  .colab-df-quickchart {\n",
              "      --bg-color: #E8F0FE;\n",
              "      --fill-color: #1967D2;\n",
              "      --hover-bg-color: #E2EBFA;\n",
              "      --hover-fill-color: #174EA6;\n",
              "      --disabled-fill-color: #AAA;\n",
              "      --disabled-bg-color: #DDD;\n",
              "  }\n",
              "\n",
              "  [theme=dark] .colab-df-quickchart {\n",
              "      --bg-color: #3B4455;\n",
              "      --fill-color: #D2E3FC;\n",
              "      --hover-bg-color: #434B5C;\n",
              "      --hover-fill-color: #FFFFFF;\n",
              "      --disabled-bg-color: #3B4455;\n",
              "      --disabled-fill-color: #666;\n",
              "  }\n",
              "\n",
              "  .colab-df-quickchart {\n",
              "    background-color: var(--bg-color);\n",
              "    border: none;\n",
              "    border-radius: 50%;\n",
              "    cursor: pointer;\n",
              "    display: none;\n",
              "    fill: var(--fill-color);\n",
              "    height: 32px;\n",
              "    padding: 0;\n",
              "    width: 32px;\n",
              "  }\n",
              "\n",
              "  .colab-df-quickchart:hover {\n",
              "    background-color: var(--hover-bg-color);\n",
              "    box-shadow: 0 1px 2px rgba(60, 64, 67, 0.3), 0 1px 3px 1px rgba(60, 64, 67, 0.15);\n",
              "    fill: var(--button-hover-fill-color);\n",
              "  }\n",
              "\n",
              "  .colab-df-quickchart-complete:disabled,\n",
              "  .colab-df-quickchart-complete:disabled:hover {\n",
              "    background-color: var(--disabled-bg-color);\n",
              "    fill: var(--disabled-fill-color);\n",
              "    box-shadow: none;\n",
              "  }\n",
              "\n",
              "  .colab-df-spinner {\n",
              "    border: 2px solid var(--fill-color);\n",
              "    border-color: transparent;\n",
              "    border-bottom-color: var(--fill-color);\n",
              "    animation:\n",
              "      spin 1s steps(1) infinite;\n",
              "  }\n",
              "\n",
              "  @keyframes spin {\n",
              "    0% {\n",
              "      border-color: transparent;\n",
              "      border-bottom-color: var(--fill-color);\n",
              "      border-left-color: var(--fill-color);\n",
              "    }\n",
              "    20% {\n",
              "      border-color: transparent;\n",
              "      border-left-color: var(--fill-color);\n",
              "      border-top-color: var(--fill-color);\n",
              "    }\n",
              "    30% {\n",
              "      border-color: transparent;\n",
              "      border-left-color: var(--fill-color);\n",
              "      border-top-color: var(--fill-color);\n",
              "      border-right-color: var(--fill-color);\n",
              "    }\n",
              "    40% {\n",
              "      border-color: transparent;\n",
              "      border-right-color: var(--fill-color);\n",
              "      border-top-color: var(--fill-color);\n",
              "    }\n",
              "    60% {\n",
              "      border-color: transparent;\n",
              "      border-right-color: var(--fill-color);\n",
              "    }\n",
              "    80% {\n",
              "      border-color: transparent;\n",
              "      border-right-color: var(--fill-color);\n",
              "      border-bottom-color: var(--fill-color);\n",
              "    }\n",
              "    90% {\n",
              "      border-color: transparent;\n",
              "      border-bottom-color: var(--fill-color);\n",
              "    }\n",
              "  }\n",
              "</style>\n",
              "\n",
              "  <script>\n",
              "    async function quickchart(key) {\n",
              "      const quickchartButtonEl =\n",
              "        document.querySelector('#' + key + ' button');\n",
              "      quickchartButtonEl.disabled = true;  // To prevent multiple clicks.\n",
              "      quickchartButtonEl.classList.add('colab-df-spinner');\n",
              "      try {\n",
              "        const charts = await google.colab.kernel.invokeFunction(\n",
              "            'suggestCharts', [key], {});\n",
              "      } catch (error) {\n",
              "        console.error('Error during call to suggestCharts:', error);\n",
              "      }\n",
              "      quickchartButtonEl.classList.remove('colab-df-spinner');\n",
              "      quickchartButtonEl.classList.add('colab-df-quickchart-complete');\n",
              "    }\n",
              "    (() => {\n",
              "      let quickchartButtonEl =\n",
              "        document.querySelector('#df-3c85f76f-45c2-4335-bf20-dec77f4ab551 button');\n",
              "      quickchartButtonEl.style.display =\n",
              "        google.colab.kernel.accessAllowed ? 'block' : 'none';\n",
              "    })();\n",
              "  </script>\n",
              "</div>\n",
              "\n",
              "    </div>\n",
              "  </div>\n"
            ],
            "application/vnd.google.colaboratory.intrinsic+json": {
              "type": "dataframe",
              "variable_name": "train_df",
              "summary": "{\n  \"name\": \"train_df\",\n  \"rows\": 8544,\n  \"fields\": [\n    {\n      \"column\": \"sentence\",\n      \"properties\": {\n        \"dtype\": \"string\",\n        \"num_unique_values\": 8534,\n        \"samples\": [\n          \"... the story simply putters along looking for astute observations and coming up blank .\",\n          \"If you answered yes , by all means enjoy The New Guy .\",\n          \"You will likely prefer to keep on watching .\"\n        ],\n        \"semantic_type\": \"\",\n        \"description\": \"\"\n      }\n    },\n    {\n      \"column\": \"label\",\n      \"properties\": {\n        \"dtype\": \"number\",\n        \"std\": 0.25143308142306486,\n        \"min\": 0.0,\n        \"max\": 1.0,\n        \"num_unique_values\": 74,\n        \"samples\": [\n          0.7222200036048889,\n          0.26388999819755554,\n          0.9305599927902222\n        ],\n        \"semantic_type\": \"\",\n        \"description\": \"\"\n      }\n    }\n  ]\n}"
            }
          },
          "metadata": {},
          "execution_count": 5
        }
      ]
    },
    {
      "cell_type": "markdown",
      "source": [
        "Next we categorise our labels using the following map:\n",
        "\n",
        "•         From 0 to 0.2 (0.2 included) will be class 0 “very negative”.\n",
        "\n",
        "•         From 0.2 to 0.4 (0.4 included) will be class 1 “negative”.\n",
        "\n",
        "•         From 0.4 to 0.6 (0.6 included) will be class 2 “neutral”.\n",
        "\n",
        "•         From 0.6 to 0.8 (0.8 included) will be class 3 “positive”.\n",
        "\n",
        "•         From 0.8 to 1.0 (1.0 included) will be class 4 “very positive”."
      ],
      "metadata": {
        "id": "zkkisVjDNt7P"
      }
    },
    {
      "cell_type": "code",
      "source": [
        "def map_values(value):\n",
        "    if 0 <= value <= 0.2:\n",
        "        return 0\n",
        "    elif 0.2 < value <= 0.4:\n",
        "        return 1\n",
        "    elif 0.4 < value <= 0.6:\n",
        "        return 2\n",
        "    elif 0.6 < value <= 0.8:\n",
        "        return 3\n",
        "    else:\n",
        "        return 4"
      ],
      "metadata": {
        "id": "834OcqRLH96F"
      },
      "execution_count": null,
      "outputs": []
    },
    {
      "cell_type": "code",
      "source": [
        "train_df['label'] = train_df['label'].apply(map_values)\n",
        "validation_df['label'] = validation_df['label'].apply(map_values)\n",
        "test_df['label'] = test_df['label'].apply(map_values)\n",
        "train_df.describe()"
      ],
      "metadata": {
        "id": "1IsnApWNBpV6",
        "colab": {
          "base_uri": "https://localhost:8080/",
          "height": 300
        },
        "outputId": "b0941d4d-e17e-49f9-c4a0-ad5bb6fb3a75"
      },
      "execution_count": null,
      "outputs": [
        {
          "output_type": "execute_result",
          "data": {
            "text/plain": [
              "             label\n",
              "count  8544.000000\n",
              "mean      2.058052\n",
              "std       1.281570\n",
              "min       0.000000\n",
              "25%       1.000000\n",
              "50%       2.000000\n",
              "75%       3.000000\n",
              "max       4.000000"
            ],
            "text/html": [
              "\n",
              "  <div id=\"df-de98a8bc-21b2-4c61-b2be-7b6040748d92\" class=\"colab-df-container\">\n",
              "    <div>\n",
              "<style scoped>\n",
              "    .dataframe tbody tr th:only-of-type {\n",
              "        vertical-align: middle;\n",
              "    }\n",
              "\n",
              "    .dataframe tbody tr th {\n",
              "        vertical-align: top;\n",
              "    }\n",
              "\n",
              "    .dataframe thead th {\n",
              "        text-align: right;\n",
              "    }\n",
              "</style>\n",
              "<table border=\"1\" class=\"dataframe\">\n",
              "  <thead>\n",
              "    <tr style=\"text-align: right;\">\n",
              "      <th></th>\n",
              "      <th>label</th>\n",
              "    </tr>\n",
              "  </thead>\n",
              "  <tbody>\n",
              "    <tr>\n",
              "      <th>count</th>\n",
              "      <td>8544.000000</td>\n",
              "    </tr>\n",
              "    <tr>\n",
              "      <th>mean</th>\n",
              "      <td>2.058052</td>\n",
              "    </tr>\n",
              "    <tr>\n",
              "      <th>std</th>\n",
              "      <td>1.281570</td>\n",
              "    </tr>\n",
              "    <tr>\n",
              "      <th>min</th>\n",
              "      <td>0.000000</td>\n",
              "    </tr>\n",
              "    <tr>\n",
              "      <th>25%</th>\n",
              "      <td>1.000000</td>\n",
              "    </tr>\n",
              "    <tr>\n",
              "      <th>50%</th>\n",
              "      <td>2.000000</td>\n",
              "    </tr>\n",
              "    <tr>\n",
              "      <th>75%</th>\n",
              "      <td>3.000000</td>\n",
              "    </tr>\n",
              "    <tr>\n",
              "      <th>max</th>\n",
              "      <td>4.000000</td>\n",
              "    </tr>\n",
              "  </tbody>\n",
              "</table>\n",
              "</div>\n",
              "    <div class=\"colab-df-buttons\">\n",
              "\n",
              "  <div class=\"colab-df-container\">\n",
              "    <button class=\"colab-df-convert\" onclick=\"convertToInteractive('df-de98a8bc-21b2-4c61-b2be-7b6040748d92')\"\n",
              "            title=\"Convert this dataframe to an interactive table.\"\n",
              "            style=\"display:none;\">\n",
              "\n",
              "  <svg xmlns=\"http://www.w3.org/2000/svg\" height=\"24px\" viewBox=\"0 -960 960 960\">\n",
              "    <path d=\"M120-120v-720h720v720H120Zm60-500h600v-160H180v160Zm220 220h160v-160H400v160Zm0 220h160v-160H400v160ZM180-400h160v-160H180v160Zm440 0h160v-160H620v160ZM180-180h160v-160H180v160Zm440 0h160v-160H620v160Z\"/>\n",
              "  </svg>\n",
              "    </button>\n",
              "\n",
              "  <style>\n",
              "    .colab-df-container {\n",
              "      display:flex;\n",
              "      gap: 12px;\n",
              "    }\n",
              "\n",
              "    .colab-df-convert {\n",
              "      background-color: #E8F0FE;\n",
              "      border: none;\n",
              "      border-radius: 50%;\n",
              "      cursor: pointer;\n",
              "      display: none;\n",
              "      fill: #1967D2;\n",
              "      height: 32px;\n",
              "      padding: 0 0 0 0;\n",
              "      width: 32px;\n",
              "    }\n",
              "\n",
              "    .colab-df-convert:hover {\n",
              "      background-color: #E2EBFA;\n",
              "      box-shadow: 0px 1px 2px rgba(60, 64, 67, 0.3), 0px 1px 3px 1px rgba(60, 64, 67, 0.15);\n",
              "      fill: #174EA6;\n",
              "    }\n",
              "\n",
              "    .colab-df-buttons div {\n",
              "      margin-bottom: 4px;\n",
              "    }\n",
              "\n",
              "    [theme=dark] .colab-df-convert {\n",
              "      background-color: #3B4455;\n",
              "      fill: #D2E3FC;\n",
              "    }\n",
              "\n",
              "    [theme=dark] .colab-df-convert:hover {\n",
              "      background-color: #434B5C;\n",
              "      box-shadow: 0px 1px 3px 1px rgba(0, 0, 0, 0.15);\n",
              "      filter: drop-shadow(0px 1px 2px rgba(0, 0, 0, 0.3));\n",
              "      fill: #FFFFFF;\n",
              "    }\n",
              "  </style>\n",
              "\n",
              "    <script>\n",
              "      const buttonEl =\n",
              "        document.querySelector('#df-de98a8bc-21b2-4c61-b2be-7b6040748d92 button.colab-df-convert');\n",
              "      buttonEl.style.display =\n",
              "        google.colab.kernel.accessAllowed ? 'block' : 'none';\n",
              "\n",
              "      async function convertToInteractive(key) {\n",
              "        const element = document.querySelector('#df-de98a8bc-21b2-4c61-b2be-7b6040748d92');\n",
              "        const dataTable =\n",
              "          await google.colab.kernel.invokeFunction('convertToInteractive',\n",
              "                                                    [key], {});\n",
              "        if (!dataTable) return;\n",
              "\n",
              "        const docLinkHtml = 'Like what you see? Visit the ' +\n",
              "          '<a target=\"_blank\" href=https://colab.research.google.com/notebooks/data_table.ipynb>data table notebook</a>'\n",
              "          + ' to learn more about interactive tables.';\n",
              "        element.innerHTML = '';\n",
              "        dataTable['output_type'] = 'display_data';\n",
              "        await google.colab.output.renderOutput(dataTable, element);\n",
              "        const docLink = document.createElement('div');\n",
              "        docLink.innerHTML = docLinkHtml;\n",
              "        element.appendChild(docLink);\n",
              "      }\n",
              "    </script>\n",
              "  </div>\n",
              "\n",
              "\n",
              "<div id=\"df-571395f6-0aea-42fd-8a81-7e2be5b33d38\">\n",
              "  <button class=\"colab-df-quickchart\" onclick=\"quickchart('df-571395f6-0aea-42fd-8a81-7e2be5b33d38')\"\n",
              "            title=\"Suggest charts\"\n",
              "            style=\"display:none;\">\n",
              "\n",
              "<svg xmlns=\"http://www.w3.org/2000/svg\" height=\"24px\"viewBox=\"0 0 24 24\"\n",
              "     width=\"24px\">\n",
              "    <g>\n",
              "        <path d=\"M19 3H5c-1.1 0-2 .9-2 2v14c0 1.1.9 2 2 2h14c1.1 0 2-.9 2-2V5c0-1.1-.9-2-2-2zM9 17H7v-7h2v7zm4 0h-2V7h2v10zm4 0h-2v-4h2v4z\"/>\n",
              "    </g>\n",
              "</svg>\n",
              "  </button>\n",
              "\n",
              "<style>\n",
              "  .colab-df-quickchart {\n",
              "      --bg-color: #E8F0FE;\n",
              "      --fill-color: #1967D2;\n",
              "      --hover-bg-color: #E2EBFA;\n",
              "      --hover-fill-color: #174EA6;\n",
              "      --disabled-fill-color: #AAA;\n",
              "      --disabled-bg-color: #DDD;\n",
              "  }\n",
              "\n",
              "  [theme=dark] .colab-df-quickchart {\n",
              "      --bg-color: #3B4455;\n",
              "      --fill-color: #D2E3FC;\n",
              "      --hover-bg-color: #434B5C;\n",
              "      --hover-fill-color: #FFFFFF;\n",
              "      --disabled-bg-color: #3B4455;\n",
              "      --disabled-fill-color: #666;\n",
              "  }\n",
              "\n",
              "  .colab-df-quickchart {\n",
              "    background-color: var(--bg-color);\n",
              "    border: none;\n",
              "    border-radius: 50%;\n",
              "    cursor: pointer;\n",
              "    display: none;\n",
              "    fill: var(--fill-color);\n",
              "    height: 32px;\n",
              "    padding: 0;\n",
              "    width: 32px;\n",
              "  }\n",
              "\n",
              "  .colab-df-quickchart:hover {\n",
              "    background-color: var(--hover-bg-color);\n",
              "    box-shadow: 0 1px 2px rgba(60, 64, 67, 0.3), 0 1px 3px 1px rgba(60, 64, 67, 0.15);\n",
              "    fill: var(--button-hover-fill-color);\n",
              "  }\n",
              "\n",
              "  .colab-df-quickchart-complete:disabled,\n",
              "  .colab-df-quickchart-complete:disabled:hover {\n",
              "    background-color: var(--disabled-bg-color);\n",
              "    fill: var(--disabled-fill-color);\n",
              "    box-shadow: none;\n",
              "  }\n",
              "\n",
              "  .colab-df-spinner {\n",
              "    border: 2px solid var(--fill-color);\n",
              "    border-color: transparent;\n",
              "    border-bottom-color: var(--fill-color);\n",
              "    animation:\n",
              "      spin 1s steps(1) infinite;\n",
              "  }\n",
              "\n",
              "  @keyframes spin {\n",
              "    0% {\n",
              "      border-color: transparent;\n",
              "      border-bottom-color: var(--fill-color);\n",
              "      border-left-color: var(--fill-color);\n",
              "    }\n",
              "    20% {\n",
              "      border-color: transparent;\n",
              "      border-left-color: var(--fill-color);\n",
              "      border-top-color: var(--fill-color);\n",
              "    }\n",
              "    30% {\n",
              "      border-color: transparent;\n",
              "      border-left-color: var(--fill-color);\n",
              "      border-top-color: var(--fill-color);\n",
              "      border-right-color: var(--fill-color);\n",
              "    }\n",
              "    40% {\n",
              "      border-color: transparent;\n",
              "      border-right-color: var(--fill-color);\n",
              "      border-top-color: var(--fill-color);\n",
              "    }\n",
              "    60% {\n",
              "      border-color: transparent;\n",
              "      border-right-color: var(--fill-color);\n",
              "    }\n",
              "    80% {\n",
              "      border-color: transparent;\n",
              "      border-right-color: var(--fill-color);\n",
              "      border-bottom-color: var(--fill-color);\n",
              "    }\n",
              "    90% {\n",
              "      border-color: transparent;\n",
              "      border-bottom-color: var(--fill-color);\n",
              "    }\n",
              "  }\n",
              "</style>\n",
              "\n",
              "  <script>\n",
              "    async function quickchart(key) {\n",
              "      const quickchartButtonEl =\n",
              "        document.querySelector('#' + key + ' button');\n",
              "      quickchartButtonEl.disabled = true;  // To prevent multiple clicks.\n",
              "      quickchartButtonEl.classList.add('colab-df-spinner');\n",
              "      try {\n",
              "        const charts = await google.colab.kernel.invokeFunction(\n",
              "            'suggestCharts', [key], {});\n",
              "      } catch (error) {\n",
              "        console.error('Error during call to suggestCharts:', error);\n",
              "      }\n",
              "      quickchartButtonEl.classList.remove('colab-df-spinner');\n",
              "      quickchartButtonEl.classList.add('colab-df-quickchart-complete');\n",
              "    }\n",
              "    (() => {\n",
              "      let quickchartButtonEl =\n",
              "        document.querySelector('#df-571395f6-0aea-42fd-8a81-7e2be5b33d38 button');\n",
              "      quickchartButtonEl.style.display =\n",
              "        google.colab.kernel.accessAllowed ? 'block' : 'none';\n",
              "    })();\n",
              "  </script>\n",
              "</div>\n",
              "\n",
              "    </div>\n",
              "  </div>\n"
            ],
            "application/vnd.google.colaboratory.intrinsic+json": {
              "type": "dataframe",
              "summary": "{\n  \"name\": \"train_df\",\n  \"rows\": 8,\n  \"fields\": [\n    {\n      \"column\": \"label\",\n      \"properties\": {\n        \"dtype\": \"number\",\n        \"std\": 3020.086663882209,\n        \"min\": 0.0,\n        \"max\": 8544.0,\n        \"num_unique_values\": 8,\n        \"samples\": [\n          2.0580524344569286,\n          2.0,\n          8544.0\n        ],\n        \"semantic_type\": \"\",\n        \"description\": \"\"\n      }\n    }\n  ]\n}"
            }
          },
          "metadata": {},
          "execution_count": 7
        }
      ]
    },
    {
      "cell_type": "code",
      "source": [
        "train_df.head()"
      ],
      "metadata": {
        "colab": {
          "base_uri": "https://localhost:8080/",
          "height": 206
        },
        "id": "7WH9OXpTQkyG",
        "outputId": "a8500970-6ce2-4c26-87a0-5e2b9987c8cd"
      },
      "execution_count": null,
      "outputs": [
        {
          "output_type": "execute_result",
          "data": {
            "text/plain": [
              "                                            sentence  label\n",
              "0  The Rock is destined to be the 21st Century 's...      3\n",
              "1  The gorgeously elaborate continuation of `` Th...      4\n",
              "2  Singer\\/composer Bryan Adams contributes a sle...      3\n",
              "3  You 'd think by now America would have had eno...      2\n",
              "4               Yet the act is still charming here .      3"
            ],
            "text/html": [
              "\n",
              "  <div id=\"df-58c8fd9a-1915-4d98-99e4-7b4dbbd5e687\" class=\"colab-df-container\">\n",
              "    <div>\n",
              "<style scoped>\n",
              "    .dataframe tbody tr th:only-of-type {\n",
              "        vertical-align: middle;\n",
              "    }\n",
              "\n",
              "    .dataframe tbody tr th {\n",
              "        vertical-align: top;\n",
              "    }\n",
              "\n",
              "    .dataframe thead th {\n",
              "        text-align: right;\n",
              "    }\n",
              "</style>\n",
              "<table border=\"1\" class=\"dataframe\">\n",
              "  <thead>\n",
              "    <tr style=\"text-align: right;\">\n",
              "      <th></th>\n",
              "      <th>sentence</th>\n",
              "      <th>label</th>\n",
              "    </tr>\n",
              "  </thead>\n",
              "  <tbody>\n",
              "    <tr>\n",
              "      <th>0</th>\n",
              "      <td>The Rock is destined to be the 21st Century 's...</td>\n",
              "      <td>3</td>\n",
              "    </tr>\n",
              "    <tr>\n",
              "      <th>1</th>\n",
              "      <td>The gorgeously elaborate continuation of `` Th...</td>\n",
              "      <td>4</td>\n",
              "    </tr>\n",
              "    <tr>\n",
              "      <th>2</th>\n",
              "      <td>Singer\\/composer Bryan Adams contributes a sle...</td>\n",
              "      <td>3</td>\n",
              "    </tr>\n",
              "    <tr>\n",
              "      <th>3</th>\n",
              "      <td>You 'd think by now America would have had eno...</td>\n",
              "      <td>2</td>\n",
              "    </tr>\n",
              "    <tr>\n",
              "      <th>4</th>\n",
              "      <td>Yet the act is still charming here .</td>\n",
              "      <td>3</td>\n",
              "    </tr>\n",
              "  </tbody>\n",
              "</table>\n",
              "</div>\n",
              "    <div class=\"colab-df-buttons\">\n",
              "\n",
              "  <div class=\"colab-df-container\">\n",
              "    <button class=\"colab-df-convert\" onclick=\"convertToInteractive('df-58c8fd9a-1915-4d98-99e4-7b4dbbd5e687')\"\n",
              "            title=\"Convert this dataframe to an interactive table.\"\n",
              "            style=\"display:none;\">\n",
              "\n",
              "  <svg xmlns=\"http://www.w3.org/2000/svg\" height=\"24px\" viewBox=\"0 -960 960 960\">\n",
              "    <path d=\"M120-120v-720h720v720H120Zm60-500h600v-160H180v160Zm220 220h160v-160H400v160Zm0 220h160v-160H400v160ZM180-400h160v-160H180v160Zm440 0h160v-160H620v160ZM180-180h160v-160H180v160Zm440 0h160v-160H620v160Z\"/>\n",
              "  </svg>\n",
              "    </button>\n",
              "\n",
              "  <style>\n",
              "    .colab-df-container {\n",
              "      display:flex;\n",
              "      gap: 12px;\n",
              "    }\n",
              "\n",
              "    .colab-df-convert {\n",
              "      background-color: #E8F0FE;\n",
              "      border: none;\n",
              "      border-radius: 50%;\n",
              "      cursor: pointer;\n",
              "      display: none;\n",
              "      fill: #1967D2;\n",
              "      height: 32px;\n",
              "      padding: 0 0 0 0;\n",
              "      width: 32px;\n",
              "    }\n",
              "\n",
              "    .colab-df-convert:hover {\n",
              "      background-color: #E2EBFA;\n",
              "      box-shadow: 0px 1px 2px rgba(60, 64, 67, 0.3), 0px 1px 3px 1px rgba(60, 64, 67, 0.15);\n",
              "      fill: #174EA6;\n",
              "    }\n",
              "\n",
              "    .colab-df-buttons div {\n",
              "      margin-bottom: 4px;\n",
              "    }\n",
              "\n",
              "    [theme=dark] .colab-df-convert {\n",
              "      background-color: #3B4455;\n",
              "      fill: #D2E3FC;\n",
              "    }\n",
              "\n",
              "    [theme=dark] .colab-df-convert:hover {\n",
              "      background-color: #434B5C;\n",
              "      box-shadow: 0px 1px 3px 1px rgba(0, 0, 0, 0.15);\n",
              "      filter: drop-shadow(0px 1px 2px rgba(0, 0, 0, 0.3));\n",
              "      fill: #FFFFFF;\n",
              "    }\n",
              "  </style>\n",
              "\n",
              "    <script>\n",
              "      const buttonEl =\n",
              "        document.querySelector('#df-58c8fd9a-1915-4d98-99e4-7b4dbbd5e687 button.colab-df-convert');\n",
              "      buttonEl.style.display =\n",
              "        google.colab.kernel.accessAllowed ? 'block' : 'none';\n",
              "\n",
              "      async function convertToInteractive(key) {\n",
              "        const element = document.querySelector('#df-58c8fd9a-1915-4d98-99e4-7b4dbbd5e687');\n",
              "        const dataTable =\n",
              "          await google.colab.kernel.invokeFunction('convertToInteractive',\n",
              "                                                    [key], {});\n",
              "        if (!dataTable) return;\n",
              "\n",
              "        const docLinkHtml = 'Like what you see? Visit the ' +\n",
              "          '<a target=\"_blank\" href=https://colab.research.google.com/notebooks/data_table.ipynb>data table notebook</a>'\n",
              "          + ' to learn more about interactive tables.';\n",
              "        element.innerHTML = '';\n",
              "        dataTable['output_type'] = 'display_data';\n",
              "        await google.colab.output.renderOutput(dataTable, element);\n",
              "        const docLink = document.createElement('div');\n",
              "        docLink.innerHTML = docLinkHtml;\n",
              "        element.appendChild(docLink);\n",
              "      }\n",
              "    </script>\n",
              "  </div>\n",
              "\n",
              "\n",
              "<div id=\"df-e5029aab-cefd-4124-9fbc-82fa23caf39a\">\n",
              "  <button class=\"colab-df-quickchart\" onclick=\"quickchart('df-e5029aab-cefd-4124-9fbc-82fa23caf39a')\"\n",
              "            title=\"Suggest charts\"\n",
              "            style=\"display:none;\">\n",
              "\n",
              "<svg xmlns=\"http://www.w3.org/2000/svg\" height=\"24px\"viewBox=\"0 0 24 24\"\n",
              "     width=\"24px\">\n",
              "    <g>\n",
              "        <path d=\"M19 3H5c-1.1 0-2 .9-2 2v14c0 1.1.9 2 2 2h14c1.1 0 2-.9 2-2V5c0-1.1-.9-2-2-2zM9 17H7v-7h2v7zm4 0h-2V7h2v10zm4 0h-2v-4h2v4z\"/>\n",
              "    </g>\n",
              "</svg>\n",
              "  </button>\n",
              "\n",
              "<style>\n",
              "  .colab-df-quickchart {\n",
              "      --bg-color: #E8F0FE;\n",
              "      --fill-color: #1967D2;\n",
              "      --hover-bg-color: #E2EBFA;\n",
              "      --hover-fill-color: #174EA6;\n",
              "      --disabled-fill-color: #AAA;\n",
              "      --disabled-bg-color: #DDD;\n",
              "  }\n",
              "\n",
              "  [theme=dark] .colab-df-quickchart {\n",
              "      --bg-color: #3B4455;\n",
              "      --fill-color: #D2E3FC;\n",
              "      --hover-bg-color: #434B5C;\n",
              "      --hover-fill-color: #FFFFFF;\n",
              "      --disabled-bg-color: #3B4455;\n",
              "      --disabled-fill-color: #666;\n",
              "  }\n",
              "\n",
              "  .colab-df-quickchart {\n",
              "    background-color: var(--bg-color);\n",
              "    border: none;\n",
              "    border-radius: 50%;\n",
              "    cursor: pointer;\n",
              "    display: none;\n",
              "    fill: var(--fill-color);\n",
              "    height: 32px;\n",
              "    padding: 0;\n",
              "    width: 32px;\n",
              "  }\n",
              "\n",
              "  .colab-df-quickchart:hover {\n",
              "    background-color: var(--hover-bg-color);\n",
              "    box-shadow: 0 1px 2px rgba(60, 64, 67, 0.3), 0 1px 3px 1px rgba(60, 64, 67, 0.15);\n",
              "    fill: var(--button-hover-fill-color);\n",
              "  }\n",
              "\n",
              "  .colab-df-quickchart-complete:disabled,\n",
              "  .colab-df-quickchart-complete:disabled:hover {\n",
              "    background-color: var(--disabled-bg-color);\n",
              "    fill: var(--disabled-fill-color);\n",
              "    box-shadow: none;\n",
              "  }\n",
              "\n",
              "  .colab-df-spinner {\n",
              "    border: 2px solid var(--fill-color);\n",
              "    border-color: transparent;\n",
              "    border-bottom-color: var(--fill-color);\n",
              "    animation:\n",
              "      spin 1s steps(1) infinite;\n",
              "  }\n",
              "\n",
              "  @keyframes spin {\n",
              "    0% {\n",
              "      border-color: transparent;\n",
              "      border-bottom-color: var(--fill-color);\n",
              "      border-left-color: var(--fill-color);\n",
              "    }\n",
              "    20% {\n",
              "      border-color: transparent;\n",
              "      border-left-color: var(--fill-color);\n",
              "      border-top-color: var(--fill-color);\n",
              "    }\n",
              "    30% {\n",
              "      border-color: transparent;\n",
              "      border-left-color: var(--fill-color);\n",
              "      border-top-color: var(--fill-color);\n",
              "      border-right-color: var(--fill-color);\n",
              "    }\n",
              "    40% {\n",
              "      border-color: transparent;\n",
              "      border-right-color: var(--fill-color);\n",
              "      border-top-color: var(--fill-color);\n",
              "    }\n",
              "    60% {\n",
              "      border-color: transparent;\n",
              "      border-right-color: var(--fill-color);\n",
              "    }\n",
              "    80% {\n",
              "      border-color: transparent;\n",
              "      border-right-color: var(--fill-color);\n",
              "      border-bottom-color: var(--fill-color);\n",
              "    }\n",
              "    90% {\n",
              "      border-color: transparent;\n",
              "      border-bottom-color: var(--fill-color);\n",
              "    }\n",
              "  }\n",
              "</style>\n",
              "\n",
              "  <script>\n",
              "    async function quickchart(key) {\n",
              "      const quickchartButtonEl =\n",
              "        document.querySelector('#' + key + ' button');\n",
              "      quickchartButtonEl.disabled = true;  // To prevent multiple clicks.\n",
              "      quickchartButtonEl.classList.add('colab-df-spinner');\n",
              "      try {\n",
              "        const charts = await google.colab.kernel.invokeFunction(\n",
              "            'suggestCharts', [key], {});\n",
              "      } catch (error) {\n",
              "        console.error('Error during call to suggestCharts:', error);\n",
              "      }\n",
              "      quickchartButtonEl.classList.remove('colab-df-spinner');\n",
              "      quickchartButtonEl.classList.add('colab-df-quickchart-complete');\n",
              "    }\n",
              "    (() => {\n",
              "      let quickchartButtonEl =\n",
              "        document.querySelector('#df-e5029aab-cefd-4124-9fbc-82fa23caf39a button');\n",
              "      quickchartButtonEl.style.display =\n",
              "        google.colab.kernel.accessAllowed ? 'block' : 'none';\n",
              "    })();\n",
              "  </script>\n",
              "</div>\n",
              "\n",
              "    </div>\n",
              "  </div>\n"
            ],
            "application/vnd.google.colaboratory.intrinsic+json": {
              "type": "dataframe",
              "variable_name": "train_df",
              "summary": "{\n  \"name\": \"train_df\",\n  \"rows\": 8544,\n  \"fields\": [\n    {\n      \"column\": \"sentence\",\n      \"properties\": {\n        \"dtype\": \"string\",\n        \"num_unique_values\": 8534,\n        \"samples\": [\n          \"... the story simply putters along looking for astute observations and coming up blank .\",\n          \"If you answered yes , by all means enjoy The New Guy .\",\n          \"You will likely prefer to keep on watching .\"\n        ],\n        \"semantic_type\": \"\",\n        \"description\": \"\"\n      }\n    },\n    {\n      \"column\": \"label\",\n      \"properties\": {\n        \"dtype\": \"number\",\n        \"std\": 1,\n        \"min\": 0,\n        \"max\": 4,\n        \"num_unique_values\": 5,\n        \"samples\": [\n          4,\n          0,\n          2\n        ],\n        \"semantic_type\": \"\",\n        \"description\": \"\"\n      }\n    }\n  ]\n}"
            }
          },
          "metadata": {},
          "execution_count": 8
        }
      ]
    },
    {
      "cell_type": "markdown",
      "source": [
        "Next we visualise our dataset after applying our map:"
      ],
      "metadata": {
        "id": "QP0hh2cPOgqA"
      }
    },
    {
      "source": [
        "train_df['label'].plot(kind='hist', bins=20, title='label')\n",
        "plt.gca().spines[['top', 'right',]].set_visible(False)"
      ],
      "cell_type": "code",
      "execution_count": null,
      "outputs": [
        {
          "output_type": "display_data",
          "data": {
            "text/plain": [
              "<Figure size 640x480 with 1 Axes>"
            ],
            "image/png": "[encoded data removed]"
          },
          "metadata": {}
        }
      ],
      "metadata": {
        "colab": {
          "base_uri": "https://localhost:8080/",
          "height": 452
        },
        "id": "NL4iTsBcQqHi",
        "outputId": "c00ca4a8-4dc0-455d-9b63-0ffffbd231b7"
      }
    },
    {
      "cell_type": "markdown",
      "source": [
        "## 2. Naive Bayes"
      ],
      "metadata": {
        "id": "6vmTfrltZ27H"
      }
    },
    {
      "cell_type": "markdown",
      "source": [
        "Now we will be using Naive Bayes for classification tasks. We will create our own Naive Bayes model and compare it with Sklearn's implementation."
      ],
      "metadata": {
        "id": "ZtGY3QONcWhn"
      }
    },
    {
      "cell_type": "markdown",
      "source": [
        "### 2.1 Making our Naive Bayes model\n"
      ],
      "metadata": {
        "id": "ZjSgoVTAZ290"
      }
    },
    {
      "cell_type": "markdown",
      "source": [
        "Naive Bayes is a popular classification algorithm based on Bayes' theorem with the **assumption of independence between features**. In this section, we describe the process of building our own Naive Bayes classifier using only Numpy.\n",
        "\n",
        "Naive Bayes Model Building Process:\n",
        "1. Obtain class log priors and classes:\n",
        "We start by calculating the log priors for each class and obtaining the unique classes present in the dataset.\n",
        "2. Extract vocabulary:\n",
        "Next, we extract the vocabulary of words from the training dataset.\n",
        "3. Compute log likelihoods:\n",
        "We calculate the log likelihoods of each word in the vocabulary for each class.\n",
        "4. Train Naive Bayes model:\n",
        "Finally, we combine the computed parameters to train our Naive Bayes classifier.\n"
      ],
      "metadata": {
        "id": "3elrKuycPAhw"
      }
    },
    {
      "cell_type": "markdown",
      "source": [
        "First we will need some helper functions for our Naive Bayes model"
      ],
      "metadata": {
        "id": "wUitBHSBsSF2"
      }
    },
    {
      "cell_type": "markdown",
      "source": [
        "$\\textbf{Description of Helper Functions:}$\n",
        "\n",
        "$1.  \\texttt{get_classes_logprior(train_df)}$: This function computes the class log priors and returns the unique classes present in the training dataset. The equation for calculating the class log prior: $\\log(P(C_k))$ is given by:\n",
        "\n",
        "$$\\log(P(C_k)) = \\log\\left(\\frac{{\\text{Number of samples belonging to class $k$ } }}{{\\text{Total number of samples}}}\\right)$$\n",
        "\n",
        "This function is essential for initializing the Naive Bayes classifier and obtaining the class log priors necessary for classification."
      ],
      "metadata": {
        "id": "YGRnGEtnV7WJ"
      }
    },
    {
      "cell_type": "code",
      "source": [
        "def get_classes_logprior(train_df):\n",
        "  classes = sorted(train_df['label'].unique())\n",
        "  class_counts = train_df['label'].value_counts().sort_index()\n",
        "  total_samples = train_df.shape[0]\n",
        "  # Calculate log prior for each class using vectorized operations\n",
        "  logprior = np.log(class_counts / total_samples)\n",
        "  # Create a dictionary to store log prior for each class\n",
        "  classes_logprior = dict(zip(class_counts.index, logprior))\n",
        "  print(\"Log probability of each class:\", classes_logprior)\n",
        "  print(\"Out of get_classes_logprior\")\n",
        "  return classes_logprior, classes\n"
      ],
      "metadata": {
        "id": "U-e8iCN9IXgS"
      },
      "execution_count": null,
      "outputs": []
    },
    {
      "cell_type": "markdown",
      "source": [
        "\n",
        "$2. \\texttt{get_vocabulary(train_df)}$: This function extracts the vocabulary of words from the training dataset.\n"
      ],
      "metadata": {
        "id": "exPhfIbTZiMh"
      }
    },
    {
      "cell_type": "code",
      "source": [
        "def get_vocabulary(train_df):\n",
        "  vocabulary = set()\n",
        "  for sentence in train_df['sentence']:\n",
        "      vocabulary.update(sentence.split())\n",
        "  print(\"Out of get_vocabulary\")\n",
        "  return sorted(vocabulary)"
      ],
      "metadata": {
        "id": "pQ8Jo5jXJq_Z"
      },
      "execution_count": null,
      "outputs": []
    },
    {
      "cell_type": "markdown",
      "source": [
        "$3. \\texttt{get_loglikelihood(train_df, classes, vocabulary)}$: The loglikelihood $ \\log P(w|c) $ is calculated using Laplace smoothing to handle unseen words. For each word $ w $ in the vocabulary $ V $, we count the number of occurrences of $ w $ in documents belonging to class $ c $, denoted as $ \\text{count}(w,c) $.\n",
        "\n",
        "The Laplace smoothed probability of observing word $ w $ given class $ c $ is then computed as:\n",
        "\n",
        "$\n",
        "\\log P(w|c) = \\log \\left( \\frac{\\text{count}(w, c) + 1}{\\sum_{w_0 \\in V} (\\text{count}(w, c) + 1)} \\right)\n",
        "$\n",
        "\n",
        "where $ \\sum_{w_0 \\in V} (\\text{count}(w, c) + 1) $ represents the total count of all words in the vocabulary plus one, ensuring that even unseen words are assigned a non-zero probability.\n"
      ],
      "metadata": {
        "id": "GvgOtngcanCg"
      }
    },
    {
      "cell_type": "code",
      "source": [
        "def get_loglikelihood(train_df, classes, vocabulary):\n",
        "    num_classes = len(classes)\n",
        "    num_words = len(vocabulary)\n",
        "    log_likelihoods = np.zeros((num_classes, num_words))\n",
        "    total_words_in_class = np.zeros(num_classes)\n",
        "\n",
        "    for i, cls in enumerate(classes):\n",
        "        class_df = train_df[train_df['label'] == cls]\n",
        "        class_words = ' '.join(class_df['sentence']).split()\n",
        "        total_words_in_class[i] = len(class_words)\n",
        "        word_counts = np.array([class_words.count(word) for word in vocabulary])\n",
        "        log_likelihoods[i] = np.log((word_counts + 1) / (total_words_in_class[i] + num_words))\n",
        "\n",
        "    return log_likelihoods, total_words_in_class\n"
      ],
      "metadata": {
        "id": "i_LvLxu_zyYI"
      },
      "execution_count": null,
      "outputs": []
    },
    {
      "cell_type": "markdown",
      "source": [
        "$4. \\texttt{train_naive_bayes(train_df)}:$ This function orchestrates the entire process of building the Naive Bayes classifier by calling the helper functions and returns the necessary parameters for classification.\n"
      ],
      "metadata": {
        "id": "ihXYyXGwZiPH"
      }
    },
    {
      "cell_type": "markdown",
      "source": [
        "Training our model:"
      ],
      "metadata": {
        "id": "YbMJRTQ-sWJf"
      }
    },
    {
      "cell_type": "code",
      "source": [
        "def train_naive_bayes(train_df):\n",
        "  classes_logprior, classes = get_classes_logprior(train_df)\n",
        "  vocabulary = get_vocabulary(train_df)\n",
        "  log_likelihoods, total_words_in_class = get_loglikelihood(train_df, classes, vocabulary)\n",
        "\n",
        "  return classes_logprior, log_likelihoods, vocabulary, total_words_in_class\n"
      ],
      "metadata": {
        "id": "g4BS3m6KF4nB"
      },
      "execution_count": null,
      "outputs": []
    },
    {
      "cell_type": "code",
      "source": [
        "classes_logprior, log_likelihoods, vocabulary, total_words_in_class = train_naive_bayes(train_df)"
      ],
      "metadata": {
        "colab": {
          "base_uri": "https://localhost:8080/"
        },
        "id": "c52EfoB7-cK4",
        "outputId": "01f1dbae-2bfa-41dd-98fe-4b91cd76dfda"
      },
      "execution_count": null,
      "outputs": [
        {
          "output_type": "stream",
          "name": "stdout",
          "text": [
            "Log probability of each class: {0: -2.0572184048951256, 1: -1.3486233932896636, 2: -1.6603370404783528, 3: -1.3028003989421393, 4: -1.892138654535677}\n",
            "Out of get_classes_logprior\n",
            "Out of get_vocabulary\n"
          ]
        }
      ]
    },
    {
      "cell_type": "markdown",
      "source": [
        "#### Testing our model"
      ],
      "metadata": {
        "id": "C_ICxKRClxmX"
      }
    },
    {
      "cell_type": "markdown",
      "source": [
        "Helper functions to test our model"
      ],
      "metadata": {
        "id": "Pa2gdeIlsaen"
      }
    },
    {
      "cell_type": "code",
      "source": [
        "def predict(sentence, classes_logprior, log_likelihoods, vocabulary, total_words_in_class):\n",
        "    classes = list(classes_logprior.keys())  # Extracting classes from the keys of the dictionary\n",
        "    scores = np.zeros(len(classes))\n",
        "\n",
        "    for i, cls in enumerate(classes):\n",
        "        log_prior = classes_logprior[cls]\n",
        "        log_likelihood = get_log_likelihood_for_sentence(sentence, log_likelihoods[i], vocabulary)\n",
        "        scores[i] = log_prior + log_likelihood\n",
        "\n",
        "    predicted_index = np.argmax(scores)\n",
        "    return classes[predicted_index]"
      ],
      "metadata": {
        "id": "Mm7C4Cf0ld6o"
      },
      "execution_count": null,
      "outputs": []
    },
    {
      "cell_type": "code",
      "source": [
        "def get_log_likelihood_for_sentence(sentence, class_log_likelihood, vocabulary):\n",
        "    words = sentence.split()\n",
        "    total_log_likelihood = 0\n",
        "\n",
        "    for word in words:\n",
        "        if word in vocabulary:\n",
        "            word_index = vocabulary.index(word)\n",
        "            total_log_likelihood += class_log_likelihood[word_index]\n",
        "\n",
        "    return total_log_likelihood"
      ],
      "metadata": {
        "id": "UfqcbRw1ljMO"
      },
      "execution_count": null,
      "outputs": []
    },
    {
      "cell_type": "markdown",
      "source": [
        "Testing our model"
      ],
      "metadata": {
        "id": "LeIi1LIJsd3H"
      }
    },
    {
      "cell_type": "code",
      "source": [
        "def test_naive_bayes(test_df, classes_logprior, log_likelihoods, vocabulary, total_words_in_class):\n",
        "    predictions = []\n",
        "    for index, row in test_df.iterrows():\n",
        "        sentence = row['sentence']\n",
        "        predicted_label = predict(sentence, classes_logprior, log_likelihoods, vocabulary, total_words_in_class)\n",
        "        predictions.append(predicted_label)\n",
        "    return predictions\n"
      ],
      "metadata": {
        "id": "BsDt_y-U0hCJ"
      },
      "execution_count": null,
      "outputs": []
    },
    {
      "cell_type": "markdown",
      "source": [
        "### 2.2 Scikit learn Naive Bayes"
      ],
      "metadata": {
        "id": "Z9uHMcC5agd-"
      }
    },
    {
      "cell_type": "markdown",
      "source": [
        "Now we use the built in Naive Bayes inside of the scikit learn's library"
      ],
      "metadata": {
        "id": "rRkY__VLgwIi"
      }
    },
    {
      "cell_type": "code",
      "source": [
        "def naive_bayes_sklearn(test_df):\n",
        "    pipeline = Pipeline([\n",
        "        ('vect', CountVectorizer()),\n",
        "        ('clf', MultinomialNB(alpha=1.0))  # add 1 Laplacian smoothing\n",
        "    ])\n",
        "\n",
        "    pipeline.fit(train_df['sentence'], train_df['label'])     # Fit the pipeline to the training data\n",
        "    # Predict labels for the test data\n",
        "    predictions = pipeline.predict(test_df['sentence'])\n",
        "    return predictions"
      ],
      "metadata": {
        "id": "slaDIM94ofWf"
      },
      "execution_count": null,
      "outputs": []
    },
    {
      "cell_type": "markdown",
      "source": [
        "## 3. Logistic Regression"
      ],
      "metadata": {
        "id": "03BZDlEgagiV"
      }
    },
    {
      "cell_type": "markdown",
      "source": [
        "### 3.1 Feature representation"
      ],
      "metadata": {
        "id": "2hxrKrTXau_8"
      }
    },
    {
      "cell_type": "code",
      "source": [
        "class Bigram():\n",
        "  def __init__(self):\n",
        "    self.BiDict = None\n",
        "    self.BiList = None\n",
        "  def build(self,text):\n",
        "    self.BiList = [b for l in text for b in zip(l[0][:-1], l[0][1:])]\n",
        "    self.BiDict = {}\n",
        "    for i,obj in enumerate(self.BiList):\n",
        "      self.BiDict[obj] = i\n",
        "  def getIndex(self,bigram):\n",
        "    return self.BiDict.get(bigram,None)\n",
        "  def getBigram(self,idx):\n",
        "    return self.BiList[idx]\n",
        "  def getVector(self,tokens):\n",
        "    vec = np.ndarray((1,len(self.BiList)),dtype='bool')\n",
        "    bigrams = [b for b in zip(tokens[:-1], tokens[1:])]\n",
        "    for gram in bigrams:\n",
        "      vec[self.getIndex(gram)] = 1\n",
        "    return vec\n",
        "    # bigram count approximately 80,000"
      ],
      "metadata": {
        "id": "SUz8TzfPdXGx"
      },
      "execution_count": null,
      "outputs": []
    },
    {
      "cell_type": "code",
      "source": [
        "bigram = Bigram()\n",
        "sentences = train_df['sentence'].tolist()\n",
        "bigram.build(sentences)\n",
        "\n",
        "# Transform sentences into sparse vector representation\n",
        "for sentence in sentences:\n",
        "    tokens = sentence.split()\n",
        "    sparse_vector = bigram.getVector(tokens)"
      ],
      "metadata": {
        "id": "Mtxr0fQgdsG3"
      },
      "execution_count": null,
      "outputs": []
    },
    {
      "cell_type": "markdown",
      "source": [
        "### 3.2 Making our Logistic Regression model"
      ],
      "metadata": {
        "id": "awvg5he4V4L4"
      }
    },
    {
      "cell_type": "code",
      "source": [
        "class LogisticRegression:\n",
        "    def __init__(self, learning_rate=0.01, num_iterations=50000, fit_intercept=True, verbose=False):\n",
        "        self.learning_rate = learning_rate\n",
        "        self.num_iterations = num_iterations\n",
        "        self.fit_intercept = fit_intercept\n",
        "        self.verbose = verbose\n",
        "        self.bigram = None  # Initialize Bigram object\n",
        "\n",
        "    def add_intercept(self, X):\n",
        "        intercept = np.ones((X.shape[0], 1))\n",
        "        return np.concatenate((intercept, X), axis=1)\n",
        "\n",
        "    def sigmoid(self, z):\n",
        "        return 1 / (1 + np.exp(-z))\n",
        "\n",
        "    def loss(self, y_pred, y):\n",
        "        return (-y * np.log(y_pred) - (1 - y) * np.log(1 - y_pred)).mean()\n",
        "\n",
        "    def fit(self, X, y):\n",
        "        if self.fit_intercept:\n",
        "            X = self.add_intercept(X)\n",
        "\n",
        "        self.W = np.zeros(X.shape[1])\n",
        "\n",
        "        for i in range(self.num_iterations):\n",
        "            z = np.dot(X, self.W)\n",
        "            y_pred = self.sigmoid(z)\n",
        "            gradient = np.dot(X.T, (y_pred - y)) / y.size\n",
        "            self.W -= self.learning_rate * gradient\n",
        "\n",
        "            if self.verbose and i % 10000 == 0:\n",
        "                loss = self.loss(y_pred, y)\n",
        "                #print(f'loss: {loss} \\t')\n",
        "    def predict_prob(self, X):\n",
        "        if self.fit_intercept:\n",
        "            X = self.add_intercept(X)\n",
        "        return self.sigmoid(np.dot(X, self.W))\n",
        "\n",
        "    def predict(self, X):\n",
        "        return np.round(self.predict_prob(X))\n",
        "\n",
        "    def transform_text_to_vectors(self, sentences):\n",
        "        vectors = []\n",
        "        for sentence in sentences:\n",
        "            tokens = sentence.split()\n",
        "            sparse_vector = self.bigram.getVector(tokens)\n",
        "            vectors.append(sparse_vector)\n",
        "        return np.vstack(vectors)\n"
      ],
      "metadata": {
        "id": "9DZZZfcP87PR"
      },
      "execution_count": null,
      "outputs": []
    },
    {
      "cell_type": "code",
      "source": [
        "def encode_labels(labels):\n",
        "    unique_labels = np.unique(labels)\n",
        "    label_dict = {label: i for i, label in enumerate(unique_labels)}\n",
        "    return np.array([label_dict[label] for label in labels])\n",
        "\n",
        "# Extract the labels from train_df\n",
        "y_train = train_df['label'].values\n",
        "y_train_encoded = encode_labels(y_train)\n"
      ],
      "metadata": {
        "id": "Wcspy8CnfPC5"
      },
      "execution_count": null,
      "outputs": []
    },
    {
      "cell_type": "code",
      "source": [
        "model = LogisticRegression(learning_rate=0.01, num_iterations=50000, fit_intercept=True, verbose=True)\n",
        "model.bigram = Bigram()\n",
        "\n",
        "# Fit the Bigram object to your dataset\n",
        "model.bigram.build(sentences)\n",
        "\n",
        "# Transform sentences into sparse vector representations\n",
        "X_train_sparse = model.transform_text_to_vectors(sentences)\n",
        "model.fit(X_train_sparse, y_train_encoded)"
      ],
      "metadata": {
        "id": "BpuUXkEleR2_",
        "colab": {
          "base_uri": "https://localhost:8080/"
        },
        "outputId": "16e56ec3-b212-4473-8968-2901eed10e2a"
      },
      "execution_count": null,
      "outputs": [
        {
          "output_type": "stream",
          "name": "stderr",
          "text": [
            "<ipython-input-21-9e54be106874>:17: RuntimeWarning: divide by zero encountered in log\n",
            "  return (-y * np.log(y_pred) - (1 - y) * np.log(1 - y_pred)).mean()\n",
            "<ipython-input-21-9e54be106874>:17: RuntimeWarning: invalid value encountered in multiply\n",
            "  return (-y * np.log(y_pred) - (1 - y) * np.log(1 - y_pred)).mean()\n",
            "/usr/local/lib/python3.10/dist-packages/numpy/core/_methods.py:118: RuntimeWarning: invalid value encountered in reduce\n",
            "  ret = umr_sum(arr, axis, dtype, out, keepdims, where=where)\n"
          ]
        }
      ]
    },
    {
      "cell_type": "code",
      "source": [
        "from sklearn.model_selection import train_test_split\n",
        "\n",
        "X_train, X_test, y_train, y_test = train_test_split(X_train_sparse, y_train_encoded, test_size=0.2, random_state=42)\n",
        "\n",
        "# Initialize logistic regression model\n",
        "custom_LR_model = LogisticRegression(learning_rate=0.01, num_iterations=50000, fit_intercept=True, verbose=True)\n",
        "custom_LR_model.fit(X_train, y_train)\n",
        "\n",
        "# Predict labels for the testing data\n",
        "y_pred_LR_custom = model.predict(X_test)\n",
        "conf_matrix_LR_custom = confusion_matrix(y_test, y_pred_LR_custom, num_classes=5)\n",
        "# Calculate accuracy\n",
        "accuracy = np.mean(y_pred_LR_custom == y_test)\n",
        "print(\"Accuracy:\", accuracy)\n"
      ],
      "metadata": {
        "id": "NBkmSCi7ftFo",
        "outputId": "c0f19263-53e7-4b8a-ecf7-3f851b4d5ee0",
        "colab": {
          "base_uri": "https://localhost:8080/"
        }
      },
      "execution_count": null,
      "outputs": [
        {
          "output_type": "stream",
          "name": "stderr",
          "text": [
            "<ipython-input-21-9e54be106874>:17: RuntimeWarning: divide by zero encountered in log\n",
            "  return (-y * np.log(y_pred) - (1 - y) * np.log(1 - y_pred)).mean()\n",
            "<ipython-input-21-9e54be106874>:17: RuntimeWarning: invalid value encountered in multiply\n",
            "  return (-y * np.log(y_pred) - (1 - y) * np.log(1 - y_pred)).mean()\n"
          ]
        },
        {
          "output_type": "stream",
          "name": "stdout",
          "text": [
            "Accuracy: 0.2545348156816852\n"
          ]
        }
      ]
    },
    {
      "cell_type": "markdown",
      "source": [
        "### 3.3 Logistic Regression with Scikit learn"
      ],
      "metadata": {
        "id": "RXtCNeuDa39d"
      }
    },
    {
      "cell_type": "code",
      "source": [
        "from sklearn.feature_extraction.text import CountVectorizer\n",
        "from sklearn.linear_model import LogisticRegression\n",
        "# Preprocess the text data\n",
        "vectorizer = CountVectorizer(ngram_range=(2, 2))  # Using word bi-grams\n",
        "X_train_vectorized = vectorizer.fit_transform(train_df['sentence'])\n",
        "X_test_vectorized = vectorizer.transform(test_df['sentence'])\n",
        "\n",
        "# Train logistic regression model\n",
        "model = LogisticRegression(max_iter=1000)\n",
        "model.fit(X_train_vectorized, train_df['label'])\n",
        "\n",
        "# Predict labels for the test dataset\n",
        "y_pred = model.predict(X_test_vectorized)\n",
        "\n",
        "# Evaluate the model\n",
        "conf_matrix_LR = confusion_matrix(test_df['label'], y_pred, num_classes=5)\n",
        "accuracy = accuracy_score(test_df['label'], y_pred)\n",
        "precision = precision_score(test_df['label'], y_pred, average=None)\n",
        "recall = recall_score(test_df['label'], y_pred, average=None)\n",
        "f1 = f1_score(test_df['label'], y_pred, average=None)\n",
        "\n",
        "# Print results\n",
        "print(\"Confusion Matrix:\")\n",
        "print(conf_matrix_LR)\n",
        "print(\"\\nPrecision:\", precision)\n",
        "print(\"Recall:\", recall)\n",
        "print(\"Accuracy:\", accuracy)\n",
        "print(\"F1 Score:\", f1)\n"
      ],
      "metadata": {
        "colab": {
          "base_uri": "https://localhost:8080/"
        },
        "id": "EgXwuOqgCL-9",
        "outputId": "4aebac51-54e4-44c1-9b04-17288c80405b"
      },
      "execution_count": null,
      "outputs": [
        {
          "output_type": "stream",
          "name": "stdout",
          "text": [
            "Confusion Matrix:\n",
            "[[ 36 136  41  58   8]\n",
            " [ 38 332  97 148  18]\n",
            " [ 18 152  57 142  20]\n",
            " [  4 142  49 274  41]\n",
            " [ 11  77  35 192  84]]\n",
            "\n",
            "Precision: [0.3364486  0.39570918 0.20430108 0.33660934 0.49122807]\n",
            "Recall: [0.12903226 0.52448657 0.14652956 0.5372549  0.21052632]\n",
            "Accuracy: 0.35429864253393667\n",
            "F1 Score: [0.1865285  0.45108696 0.17065868 0.41389728 0.29473684]\n"
          ]
        }
      ]
    },
    {
      "cell_type": "markdown",
      "source": [
        "### 3.4 Logistic regression with SGD classifier"
      ],
      "metadata": {
        "id": "ZZXdaCP84PDf"
      }
    },
    {
      "cell_type": "code",
      "source": [
        "X = train_df['sentence']\n",
        "y = train_df['label']\n",
        "\n",
        "X_train, X_test, y_train, y_test = train_test_split(X, y, test_size=0.2, random_state=42)\n",
        "\n",
        "# Convert continuous values to binary labels\n",
        "y_train = (y_train >= 0.5).astype(int)\n",
        "y_test = (y_test >= 0.5).astype(int)\n",
        "\n",
        "# Create a pipeline with CountVectorizer and SGDClassifier\n",
        "pipeline = Pipeline([\n",
        "    ('vectorizer', CountVectorizer(ngram_range=(2, 2))),\n",
        "    ('classifier', SGDClassifier(loss='log_loss', max_iter=1000))  # Use SGD with logistic regression\n",
        "])\n",
        "\n",
        "pipeline.fit(X_train, y_train)\n",
        "y_pred = pipeline.predict(X_test)\n",
        "\n",
        "accuracy = accuracy_score(y_test, y_pred)\n",
        "print(f\"Accuracy: {accuracy}\")\n",
        "\n",
        "report = classification_report(y_test, y_pred)\n",
        "print(report)"
      ],
      "metadata": {
        "id": "BhK627c83kyT",
        "outputId": "bbab1990-73ce-43b1-8d12-f4231fc6f24b",
        "colab": {
          "base_uri": "https://localhost:8080/"
        }
      },
      "execution_count": null,
      "outputs": [
        {
          "output_type": "stream",
          "name": "stdout",
          "text": [
            "Accuracy: 0.8782913984786425\n",
            "              precision    recall  f1-score   support\n",
            "\n",
            "           0       0.38      0.01      0.03       206\n",
            "           1       0.88      1.00      0.94      1503\n",
            "\n",
            "    accuracy                           0.88      1709\n",
            "   macro avg       0.63      0.51      0.48      1709\n",
            "weighted avg       0.82      0.88      0.83      1709\n",
            "\n"
          ]
        }
      ]
    },
    {
      "cell_type": "markdown",
      "source": [
        "## 4. Evaluation Metrics"
      ],
      "metadata": {
        "id": "LkjTuURWbQqe"
      }
    },
    {
      "cell_type": "markdown",
      "source": [
        "### 4.1 Confusion matrix function"
      ],
      "metadata": {
        "id": "WHwaH-HSbQss"
      }
    },
    {
      "cell_type": "code",
      "source": [
        "def confusion_matrix(true_labels, predicted_labels, num_classes):\n",
        "    conf_mat = np.zeros((num_classes, num_classes), dtype=int)\n",
        "    true_labels = np.asarray(true_labels, dtype=int)\n",
        "    predicted_labels = np.asarray(predicted_labels, dtype=int)\n",
        "    for i in range(len(true_labels)):\n",
        "        conf_mat[true_labels[i], predicted_labels[i]] += 1\n",
        "    return conf_mat\n"
      ],
      "metadata": {
        "id": "HAOJsR2vbl0G"
      },
      "execution_count": null,
      "outputs": []
    },
    {
      "cell_type": "markdown",
      "source": [
        "### 4.2 Precision, recall, F1"
      ],
      "metadata": {
        "id": "D3uzUoLJoIjL"
      }
    },
    {
      "cell_type": "code",
      "source": [
        "def precision_recall_f1(true_labels, predicted_labels, num_classes):\n",
        "    conf_mat = confusion_matrix(true_labels, predicted_labels, num_classes)\n",
        "    num_classes = len(conf_mat)\n",
        "    precision = np.zeros(num_classes)\n",
        "    recall = np.zeros(num_classes)\n",
        "    f1 = np.zeros(num_classes)\n",
        "    for i in range(num_classes):\n",
        "        true_positives = conf_mat[i, i]\n",
        "        false_positives = np.sum(conf_mat[:, i]) - true_positives\n",
        "        false_negatives = np.sum(conf_mat[i, :]) - true_positives\n",
        "        precision[i] = true_positives / (true_positives + false_positives)\n",
        "        recall[i] = true_positives / (true_positives + false_negatives)\n",
        "        f1[i] = 2 * (precision[i] * recall[i]) / (precision[i] + recall[i])\n",
        "\n",
        "    macro_precision = np.mean(precision)\n",
        "    macro_recall = np.mean(recall)\n",
        "    macro_f1 = np.mean(f1)\n",
        "\n",
        "    return precision, recall, f1, macro_precision, macro_recall, macro_f1"
      ],
      "metadata": {
        "id": "IoRrg-5TAs5I"
      },
      "execution_count": null,
      "outputs": []
    },
    {
      "cell_type": "markdown",
      "source": [
        "### 4.3 Comparing the models:"
      ],
      "metadata": {
        "id": "usgz9t4GoQf8"
      }
    },
    {
      "cell_type": "markdown",
      "source": [
        "#### Custom Naive Bayes vs Sklearn Niave bayes"
      ],
      "metadata": {
        "id": "JepX30tkoT7O"
      }
    },
    {
      "cell_type": "code",
      "source": [
        "def compare_models(true_labels, predicted_labels_custom, predicted_labels_sklearn, num_classes):\n",
        "    # Calculate evaluation metrics for custom model\n",
        "    precision_custom, recall_custom, f1_custom, macro_precision_custom, macro_recall_custom, macro_f1_custom = precision_recall_f1(true_labels, predicted_labels_custom, num_classes)\n",
        "\n",
        "    # Calculate evaluation metrics for sklearn model\n",
        "    precision_sklearn, recall_sklearn, f1_sklearn, macro_precision_sklearn, macro_recall_sklearn, macro_f1_sklearn = precision_recall_f1(true_labels, predicted_labels_sklearn, num_classes)\n",
        "\n",
        "    return (precision_custom, recall_custom, f1_custom, macro_precision_custom, macro_recall_custom, macro_f1_custom), (precision_sklearn, recall_sklearn, f1_sklearn, macro_precision_sklearn, macro_recall_sklearn, macro_f1_sklearn)"
      ],
      "metadata": {
        "id": "qeTqRMjJBJoR"
      },
      "execution_count": null,
      "outputs": []
    },
    {
      "cell_type": "code",
      "source": [
        "true_labels = test_df['label']\n",
        "predicted_labels_custom = test_naive_bayes(test_df, classes_logprior, log_likelihoods, vocabulary, total_words_in_class)\n",
        "predicted_labels_sklearn = naive_bayes_sklearn(test_df)\n",
        "\n",
        "num_classes = len(np.unique(true_labels))\n",
        "metric_names = ['Precision', 'Recall', 'F1-Score', 'Macro Precision', 'Macro Recall', 'Macro F1']\n"
      ],
      "metadata": {
        "id": "x3oIqloyDMEg"
      },
      "execution_count": null,
      "outputs": []
    },
    {
      "cell_type": "code",
      "source": [
        "def plot_comparison_graph(metrics_custom, metrics_sklearn, metric_names):\n",
        "    fig, ax = plt.subplots(figsize=(10, 6))  # Increase the figure size\n",
        "    width = 0.35\n",
        "    x = np.arange(len(metric_names))\n",
        "\n",
        "    # Define colors for custom and sklearn models\n",
        "    color_custom = 'blue'\n",
        "    color_sklearn = 'red'\n",
        "\n",
        "    for i, metric_name in enumerate(metric_names):\n",
        "        ax.bar(x[i] - width/2, metrics_custom[i], width, label='Custom Naive Bayes', color=color_custom)\n",
        "        ax.bar(x[i] + width/2, metrics_sklearn[i], width, label='Sklearn Naive Bayes', color=color_sklearn)\n",
        "\n",
        "    ax.set_ylabel('Scores')\n",
        "    ax.set_title('Comparison of Naive Bayes Models')\n",
        "    ax.set_xticks(x)\n",
        "    ax.set_xticklabels(metric_names, rotation=45)  # Rotate x-axis labels for better readability\n",
        "    ax.legend(['Custom Naive Bayes (Blue)', 'Sklearn Naive Bayes (Red)'], loc='upper left')\n",
        "\n",
        "    plt.tight_layout()  # Adjust layout to prevent overlapping\n",
        "    plt.show()"
      ],
      "metadata": {
        "id": "Es2VHuYsBxqQ"
      },
      "execution_count": null,
      "outputs": []
    },
    {
      "cell_type": "code",
      "source": [
        "custom_metrics, sklearn_metrics = compare_models(true_labels, predicted_labels_custom, predicted_labels_sklearn, num_classes)\n",
        "plot_comparison_graph(custom_metrics, sklearn_metrics, metric_names)"
      ],
      "metadata": {
        "id": "WekT_DWZRpko",
        "colab": {
          "base_uri": "https://localhost:8080/",
          "height": 607
        },
        "outputId": "0c3a45de-9eae-4a9c-ef13-6303bb547456"
      },
      "execution_count": null,
      "outputs": [
        {
          "output_type": "display_data",
          "data": {
            "text/plain": [
              "<Figure size 1000x600 with 1 Axes>"
            ],
            "image/png": "[encoded data removed]"
          },
          "metadata": {}
        }
      ]
    },
    {
      "cell_type": "markdown",
      "source": [
        "#### Custom Logistic Regression vs Sklearn's LR"
      ],
      "metadata": {
        "id": "XP6U2BpCccEe"
      }
    },
    {
      "cell_type": "code",
      "source": [
        "print(\"Confusion matrix for Sklearn's LR:\")\n",
        "print(conf_matrix_LR)"
      ],
      "metadata": {
        "colab": {
          "base_uri": "https://localhost:8080/"
        },
        "id": "14tURZsc2zTS",
        "outputId": "b2e35413-d7cf-44c8-d258-22ce92480abc"
      },
      "execution_count": null,
      "outputs": [
        {
          "output_type": "stream",
          "name": "stdout",
          "text": [
            "Confusion matrix for Sklearn's LR:\n",
            "[[ 36 136  41  58   8]\n",
            " [ 38 332  97 148  18]\n",
            " [ 18 152  57 142  20]\n",
            " [  4 142  49 274  41]\n",
            " [ 11  77  35 192  84]]\n"
          ]
        }
      ]
    },
    {
      "cell_type": "code",
      "source": [
        "print(\"Confusion matrix for custom LR:\")\n",
        "print(conf_matrix_LR_custom)"
      ],
      "metadata": {
        "colab": {
          "base_uri": "https://localhost:8080/"
        },
        "id": "NbFMuULQ27Fz",
        "outputId": "1c6dda2c-ae8a-4537-b1a9-d7442b989af4"
      },
      "execution_count": null,
      "outputs": [
        {
          "output_type": "stream",
          "name": "stdout",
          "text": [
            "Confusion matrix for custom LR:\n",
            "[[  0 206   0   0   0]\n",
            " [  0 435   0   0   0]\n",
            " [  0 322   0   0   0]\n",
            " [  0 488   0   0   0]\n",
            " [  0 258   0   0   0]]\n"
          ]
        }
      ]
    }
  ]
}